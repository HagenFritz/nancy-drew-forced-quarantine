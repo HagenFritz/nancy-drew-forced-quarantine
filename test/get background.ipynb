{
 "cells": [
  {
   "cell_type": "code",
   "execution_count": 13,
   "metadata": {},
   "outputs": [],
   "source": [
    "inventory = [\"bag\",\"mug\"]"
   ]
  },
  {
   "cell_type": "code",
   "execution_count": 15,
   "metadata": {},
   "outputs": [
    {
     "name": "stdout",
     "output_type": "stream",
     "text": [
      "inventory: ['bag', 'mug']\n",
      "background list: ['mug']\n",
      "mug\n"
     ]
    }
   ],
   "source": [
    "background_list = []\n",
    "for obj in inventory:\n",
    "    if obj in [\"chemex\",\"filter\",\"grounds\",\"mug\"]:\n",
    "        background_list.append(obj)\n",
    "print(\"inventory:\", inventory)\n",
    "print(\"background list:\",background_list)\n",
    "if len(background_list) > 0:\n",
    "    background_list.sort()\n",
    "    background_str = \"\"\n",
    "    for i, obj in enumerate(background_list):\n",
    "        if i == len(background_list)-1:\n",
    "            background_str += obj\n",
    "        else:\n",
    "            background_str = background_str + obj + \"_\"\n",
    "\n",
    "else:\n",
    "    background_str = \"no items\"\n",
    "    \n",
    "print(background_str)"
   ]
  },
  {
   "cell_type": "code",
   "execution_count": 5,
   "metadata": {},
   "outputs": [],
   "source": [
    "background_list"
   ]
  },
  {
   "cell_type": "code",
   "execution_count": null,
   "metadata": {},
   "outputs": [],
   "source": []
  }
 ],
 "metadata": {
  "kernelspec": {
   "display_name": "Python 3",
   "language": "python",
   "name": "python3"
  },
  "language_info": {
   "codemirror_mode": {
    "name": "ipython",
    "version": 3
   },
   "file_extension": ".py",
   "mimetype": "text/x-python",
   "name": "python",
   "nbconvert_exporter": "python",
   "pygments_lexer": "ipython3",
   "version": "3.7.0"
  },
  "toc": {
   "base_numbering": 1,
   "nav_menu": {},
   "number_sections": false,
   "sideBar": false,
   "skip_h1_title": false,
   "title_cell": "Table of Contents",
   "title_sidebar": "Contents",
   "toc_cell": false,
   "toc_position": {},
   "toc_section_display": false,
   "toc_window_display": false
  }
 },
 "nbformat": 4,
 "nbformat_minor": 4
}
