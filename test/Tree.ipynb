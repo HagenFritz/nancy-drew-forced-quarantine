{
 "cells": [
  {
   "cell_type": "markdown",
   "metadata": {},
   "source": [
    "# Working with Trees"
   ]
  },
  {
   "cell_type": "code",
   "execution_count": 2,
   "metadata": {},
   "outputs": [],
   "source": [
    "from treelib import Node, Tree"
   ]
  },
  {
   "cell_type": "code",
   "execution_count": 71,
   "metadata": {},
   "outputs": [
    {
     "name": "stdout",
     "output_type": "stream",
     "text": [
      "Waltz Ingman\n",
      "├── Umm hi.\n",
      "│   ├── Do you know what we are doing here?\n",
      "│   │   ├── Hmm perhaps I should look around.\n",
      "│   │   └── Me? I am just as confused as you.\n",
      "│   │       └── Hmm perhaps I should look around.\n",
      "│   └── Dr.?\n",
      "│       └── Hmm perhaps I should look around.\n",
      "│           └── Oh, sorry. My name is Nancy. Nancy Drew!\n",
      "└── Who the hell are you?\n",
      "    ├── I asked first.\n",
      "    │   ├── Dr.?\n",
      "    │   │   └── Hmm perhaps I should look around.\n",
      "    │   └── My name is Nancy Drew.\n",
      "    │       ├── Do you know what we are doing here?\n",
      "    │       │   └── Hmm perhaps I should look around.\n",
      "    │       └── Dr.?\n",
      "    │           └── Hmm perhaps I should look around.\n",
      "    └── My name is Nancy Drew.\n",
      "        ├── Do you know what we are doing here?\n",
      "        │   └── Hmm perhaps I should look around.\n",
      "        └── Dr.?\n",
      "            ├── Hmm perhaps I should look around.\n",
      "            └── Yeah that won't help here unless there is someone else about.\n",
      "                └── Hmm perhaps I should look around.\n",
      "\n"
     ]
    }
   ],
   "source": [
    "c = Tree()\n",
    "c.create_node(\"Waltz Ingman\",1,data={\"loc\":\"u\",\"answer\":\"...\"})\n",
    "\n",
    "c.create_node(\"Who the hell are you?\",11,parent=1,data={\"loc\":\"u\",\"answer\":\"I could ask you the same thing\"})\n",
    "c.create_node(\"Umm hi.\",12,parent=1,data={\"loc\":\"d\",\"answer\":\"Hello! I am Dr. Waltz Ingman\"})\n",
    "# I could ask you the same thing\n",
    "c.create_node(\"I asked first.\",111,parent=11,data={\"loc\":\"u\",\"answer\":\"Okay then. I am Dr. Waltz Ingman. Who are you?\"})\n",
    "c.create_node(\"My name is Nancy Drew.\",112,parent=11,data={\"loc\":\"d\",\"answer\":\"Nancy? Pretty name. My name is Dr. Waltz Ingman!\"})\n",
    "# Okay then. I am Dr. Waltz Ingman. Who are you?\n",
    "c.create_node(\"Dr.?\",1111,parent=111,data={\"loc\":\"u\",\"answer\":\"of psychology. Although that won't seem to help in our present situation.\"})\n",
    "c.create_node(\"My name is Nancy Drew.\",1112,parent=111,data={\"loc\":\"d\",\"answer\":\"Nancy? Pretty name. My name is Dr. Waltz Ingman!\"})\n",
    "# of psychology. Although that won't seem to help in our present situation\n",
    "c.create_node(\"Hmm perhaps I should look around.\",11111,parent=1111,data={\"loc\":\"u\",\"answer\":\"You still haven't answered my question...who are YOU?\"})\n",
    "# You still haven't answered my question...who are YOU?\n",
    "c.create_node(\"Oh, sorry. My name is Nancy. Nancy Drew!\",111110,parent=11111,data={\"loc\":\"u\",\"answer\":\"Pretty name. Well Nancy, feel free to look about. I'll need a moment here.\"})\n",
    "# Nancy? Pretty name. My name is Dr. Waltz Ingman!\n",
    "c.create_node(\"Dr.?\",11121,parent=1112,data={\"loc\":\"u\",\"answer\":\"of psychology. Although that won't seem to help in our present situation.\"})\n",
    "c.create_node(\"Do you know what we are doing here?\",11122,parent=1112,data={\"loc\":\"d\",\"answer\":\"Not a clue. One minute I was at home, now I am here.\"})\n",
    "# of psychology. Although that won't seem to help in our present situation.\n",
    "c.create_node(\"Hmm perhaps I should look around.\",111210,parent=11121,data={\"loc\":\"u\",\"answer\":\"Have at it. Im going to take a moment to gather myself.\"})\n",
    "#Not a clue. One minute I was at home, now I am here\n",
    "c.create_node(\"Hmm perhaps I should look around.\",111220,parent=11122,data={\"loc\":\"u\",\"answer\":\"Be careful. Im going to take a moment to gather myself.\"})\n",
    "# Hello! I am Dr. Waltz Ingman\n",
    "c.create_node(\"Dr.?\",121,parent=12,data={\"loc\":\"u\",\"answer\":\"of psychology. Although that won't seem to help in our present situation.\"})\n",
    "c.create_node(\"Do you know what we are doing here?\",122,parent=12,data={\"loc\":\"d\",\"answer\":\"Not a clue. One minute I was at home, now I am here.\"})\n",
    "# of psychology. Although that won't seem to help in our present situation.\"\n",
    "c.create_node(\"Hmm perhaps I should look around.\",1211,parent=121,data={\"loc\":\"u\",\"answer\":\"You still haven't answered my question...who are YOU?\"})\n",
    "# You still haven't answered my question...who are YOU?\n",
    "c.create_node(\"Oh, sorry. My name is Nancy. Nancy Drew!\",12110,parent=1211,data={\"loc\":\"u\",\"answer\":\"Pretty name. Well Nancy, feel free to look about. I'll need a moment here.\"})\n",
    "# I haven't a clue. I was hoping you might be able to tell me.\n",
    "c.create_node(\"Me? I am just as confused as you.\",1221,parent=122,data={\"loc\":\"u\",\"answer\":\"Hmm then seems we are in a bit of a pickle here. Still, nice place.\"})\n",
    "c.create_node(\"Hmm perhaps I should look around.\",1220,parent=122,data={\"loc\":\"d\",\"answer\":\"Knock yourself out. Well...not literally.\"})\n",
    "# Hmm then seems we are in a bit of a pickle here. Still, nice place.\n",
    "c.create_node(\"Hmm perhaps I should look around.\",12210,parent=1221,data={\"loc\":\"u\",\"answer\":\"Have at it. Im going to take a moment to gather myself.\"})\n",
    "# My name is Nancy Drew\n",
    "c.create_node(\"Dr.?\",1121,parent=112,data={\"loc\":\"u\",\"answer\":\"of psychology. Although that won't seem to help in our present situation.\"})\n",
    "c.create_node(\"Do you know what we are doing here?\",1122,parent=112,data={\"loc\":\"d\",\"answer\":\"Not a clue. One minute I was at home, now I am here.\"})\n",
    "# of psychology. Although that won't seem to help in our present situation.\n",
    "c.create_node(\"Yeah that won't help here unless there is someone else about.\",11211,parent=1121,data={\"loc\":\"u\",\"answer\":\"I sure hope not. Then again, it seems there are other rooms.\"})\n",
    "c.create_node(\"Hmm perhaps I should look around.\",11210,parent=1121,data={\"loc\":\"d\",\"answer\":\"Yes please! I am just going to wait for your all-clear.\"})\n",
    "# I sure hope not. Then again, it seems there are other rooms.\n",
    "c.create_node(\"Hmm perhaps I should look around.\",112110,parent=11211,data={\"loc\":\"u\",\"answer\":\"Yes please! I am just going to wait for your all-clear.\"})\n",
    "# Not a clue. One minute I was at home, now I am here.\n",
    "c.create_node(\"Hmm perhaps I should look around.\",11220,parent=1122,data={\"loc\":\"u\",\"answer\":\"Be my guest. Well...err...poor choice of words.\"})\n",
    "\n",
    "c.show()"
   ]
  },
  {
   "cell_type": "code",
   "execution_count": 72,
   "metadata": {},
   "outputs": [
    {
     "name": "stdout",
     "output_type": "stream",
     "text": [
      "...\n",
      "u: Who the hell are you?\n",
      "d: Umm hi.\n",
      "Your answer: u\n",
      "I could ask you the same thing\n",
      "u: I asked first.\n",
      "d: My name is Nancy Drew.\n",
      "Your answer: d\n",
      "Nancy? Pretty name. My name is Dr. Waltz Ingman!\n",
      "u: Dr.?\n",
      "d: Do you know what we are doing here?\n",
      "Your answer: u\n",
      "of psychology. Although that won't seem to help in our present situation.\n",
      "u: Yeah that won't help here unless there is someone else about.\n",
      "d: Hmm perhaps I should look around.\n",
      "Your answer: u\n",
      "I sure hope not. Then again, it seems there are other rooms.\n",
      "u: Hmm perhaps I should look around.\n",
      "Your answer: u\n",
      "Yes please! I am just going to wait for your all-clear.\n"
     ]
    }
   ],
   "source": [
    "nid = 1\n",
    "while True:\n",
    "    # printing out initial message\n",
    "    if nid == 1:\n",
    "        print(c.get_node(1).data[\"answer\"])\n",
    "        \n",
    "    # printing out your possible responses\n",
    "    for response in c.children(nid):\n",
    "        loc = response.data[\"loc\"]\n",
    "        print(f\"{loc}: {response.tag}\")\n",
    "        \n",
    "    # user input\n",
    "    ans = input(\"Your answer: \")\n",
    "    # printing out character's response and getting next question\n",
    "    for response in c.children(nid):\n",
    "        if ans == response.data[\"loc\"]:\n",
    "            print(response.data[\"answer\"])\n",
    "            nid = response.identifier\n",
    "                        \n",
    "    # breaking the loop if the conversation is over\n",
    "    if c.children(nid) == []:\n",
    "        break"
   ]
  },
  {
   "cell_type": "code",
   "execution_count": 39,
   "metadata": {},
   "outputs": [],
   "source": [
    "def getResponses(c, level): \n",
    "    for nid in c.nodes.keys():\n",
    "        ell = c.level(nid)\n",
    "        if ell == level:\n",
    "            print(c.get_node(nid).tag)"
   ]
  },
  {
   "cell_type": "code",
   "execution_count": 48,
   "metadata": {},
   "outputs": [
    {
     "name": "stdout",
     "output_type": "stream",
     "text": [
      "Who the hell are you?\n",
      "Umm hi.\n"
     ]
    }
   ],
   "source": [
    "for response in c.children(1):\n",
    "    print(response.tag)"
   ]
  },
  {
   "cell_type": "code",
   "execution_count": null,
   "metadata": {},
   "outputs": [],
   "source": []
  }
 ],
 "metadata": {
  "kernelspec": {
   "display_name": "Python 3",
   "language": "python",
   "name": "python3"
  },
  "language_info": {
   "codemirror_mode": {
    "name": "ipython",
    "version": 3
   },
   "file_extension": ".py",
   "mimetype": "text/x-python",
   "name": "python",
   "nbconvert_exporter": "python",
   "pygments_lexer": "ipython3",
   "version": "3.7.0"
  }
 },
 "nbformat": 4,
 "nbformat_minor": 4
}
