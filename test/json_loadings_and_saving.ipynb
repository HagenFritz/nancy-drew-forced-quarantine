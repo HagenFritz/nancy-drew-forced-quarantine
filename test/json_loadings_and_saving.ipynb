{
 "cells": [
  {
   "cell_type": "markdown",
   "metadata": {},
   "source": [
    "# Saving and Loading Data with .json Files\n",
    "In this notebook, we look at saving and loading data for the game in json files."
   ]
  },
  {
   "cell_type": "code",
   "execution_count": 3,
   "metadata": {},
   "outputs": [],
   "source": [
    "import pandas as pd\n",
    "import json"
   ]
  },
  {
   "cell_type": "markdown",
   "metadata": {},
   "source": [
    "## Save and Load Functions\n",
    "Below are the two functions that we can use perhaps for all types of data (placed in ```config.py```)."
   ]
  },
  {
   "cell_type": "code",
   "execution_count": 12,
   "metadata": {},
   "outputs": [],
   "source": [
    "def load(loc=\"\",filename=\"\",suffix=\"\"):\n",
    "    \"\"\"\n",
    "    \n",
    "    \"\"\"\n",
    "    try:\n",
    "        with open(f\"{loc}{filename}.json\", \"r\") as f:\n",
    "            data = json.load(f)\n",
    "            print(\"File loaded succesfully!\")\n",
    "    except Exception as inst:\n",
    "        print(f\"Problem loading save file - {inst}\")\n",
    "        \n",
    "    return data"
   ]
  },
  {
   "cell_type": "code",
   "execution_count": 22,
   "metadata": {},
   "outputs": [],
   "source": [
    "def save(data,loc=\"\",filename=\"\",suffix=\"\"):\n",
    "    \"\"\"\n",
    "    \n",
    "    \"\"\"\n",
    "    try:\n",
    "        with open(f\"{loc}{filename}{suffix}.json\", \"w\") as f:\n",
    "            data = json.dump(data, f)\n",
    "            print(\"Game saved successfully!\")\n",
    "    except Exception as inst:\n",
    "        print(f\"Game not saved - {inst}\")"
   ]
  },
  {
   "cell_type": "markdown",
   "metadata": {},
   "source": [
    "## Inventory\n",
    "The inventory should be pretty straight-forward considering it is just a list of strings."
   ]
  },
  {
   "cell_type": "code",
   "execution_count": 23,
   "metadata": {},
   "outputs": [
    {
     "name": "stdout",
     "output_type": "stream",
     "text": [
      "Game saved successfully!\n"
     ]
    }
   ],
   "source": [
    "# test data\n",
    "inventory = [\"bag\"]\n",
    "# saving\n",
    "save(inventory,\"../data/save_files/\",\"inventory\",\"_test\")"
   ]
  },
  {
   "cell_type": "code",
   "execution_count": 19,
   "metadata": {},
   "outputs": [
    {
     "name": "stdout",
     "output_type": "stream",
     "text": [
      "File loaded succesfully!\n",
      "['bag', 'mug']\n"
     ]
    }
   ],
   "source": [
    "# loading inventory\n",
    "new_inventory = load(\"./data/\",\"inventory\")\n",
    "print(new_inventory)"
   ]
  },
  {
   "cell_type": "markdown",
   "metadata": {},
   "source": [
    "## Save Files\n",
    "Here we look at loading everything in from a json file."
   ]
  },
  {
   "cell_type": "code",
   "execution_count": 4,
   "metadata": {},
   "outputs": [
    {
     "name": "stdout",
     "output_type": "stream",
     "text": [
      "File loaded succesfully!\n"
     ]
    }
   ],
   "source": [
    "try:\n",
    "    with open(f\"../data/save_files/test.json\", \"r\") as f:\n",
    "        data = json.load(f)\n",
    "        print(\"File loaded succesfully!\")\n",
    "except Exception as inst:\n",
    "    print(f\"Problem loading save file - {inst}\")"
   ]
  },
  {
   "cell_type": "code",
   "execution_count": 8,
   "metadata": {},
   "outputs": [],
   "source": [
    "df = pd.DataFrame.from_dict(data[\"progress\"])"
   ]
  },
  {
   "cell_type": "code",
   "execution_count": 9,
   "metadata": {},
   "outputs": [
    {
     "data": {
      "text/html": [
       "<div>\n",
       "<style scoped>\n",
       "    .dataframe tbody tr th:only-of-type {\n",
       "        vertical-align: middle;\n",
       "    }\n",
       "\n",
       "    .dataframe tbody tr th {\n",
       "        vertical-align: top;\n",
       "    }\n",
       "\n",
       "    .dataframe thead th {\n",
       "        text-align: right;\n",
       "    }\n",
       "</style>\n",
       "<table border=\"1\" class=\"dataframe\">\n",
       "  <thead>\n",
       "    <tr style=\"text-align: right;\">\n",
       "      <th></th>\n",
       "      <th>order</th>\n",
       "      <th>complete</th>\n",
       "      <th>visible</th>\n",
       "      <th>description</th>\n",
       "    </tr>\n",
       "  </thead>\n",
       "  <tbody>\n",
       "    <tr>\n",
       "      <th>met_ingman</th>\n",
       "      <td>1</td>\n",
       "      <td>1</td>\n",
       "      <td>1</td>\n",
       "      <td>Meet the stranger in the living room</td>\n",
       "    </tr>\n",
       "    <tr>\n",
       "      <th>apt_explored</th>\n",
       "      <td>2</td>\n",
       "      <td>1</td>\n",
       "      <td>1</td>\n",
       "      <td>Explore all main rooms of the apartment</td>\n",
       "    </tr>\n",
       "    <tr>\n",
       "      <th>make_coffee</th>\n",
       "      <td>3</td>\n",
       "      <td>1</td>\n",
       "      <td>1</td>\n",
       "      <td>Get Dr. Ingman some coffee</td>\n",
       "    </tr>\n",
       "    <tr>\n",
       "      <th>first_sleep</th>\n",
       "      <td>4</td>\n",
       "      <td>1</td>\n",
       "      <td>1</td>\n",
       "      <td>Get some sleep</td>\n",
       "    </tr>\n",
       "    <tr>\n",
       "      <th>first_message</th>\n",
       "      <td>5</td>\n",
       "      <td>1</td>\n",
       "      <td>1</td>\n",
       "      <td>Investigate the kitchen</td>\n",
       "    </tr>\n",
       "    <tr>\n",
       "      <th>front_unlocked</th>\n",
       "      <td>10</td>\n",
       "      <td>0</td>\n",
       "      <td>0</td>\n",
       "      <td>Unlock the front door</td>\n",
       "    </tr>\n",
       "  </tbody>\n",
       "</table>\n",
       "</div>"
      ],
      "text/plain": [
       "                order  complete  visible  \\\n",
       "met_ingman          1         1        1   \n",
       "apt_explored        2         1        1   \n",
       "make_coffee         3         1        1   \n",
       "first_sleep         4         1        1   \n",
       "first_message       5         1        1   \n",
       "front_unlocked     10         0        0   \n",
       "\n",
       "                                            description  \n",
       "met_ingman         Meet the stranger in the living room  \n",
       "apt_explored    Explore all main rooms of the apartment  \n",
       "make_coffee                  Get Dr. Ingman some coffee  \n",
       "first_sleep                              Get some sleep  \n",
       "first_message                   Investigate the kitchen  \n",
       "front_unlocked                    Unlock the front door  "
      ]
     },
     "execution_count": 9,
     "metadata": {},
     "output_type": "execute_result"
    }
   ],
   "source": [
    "df"
   ]
  },
  {
   "cell_type": "code",
   "execution_count": 11,
   "metadata": {},
   "outputs": [
    {
     "data": {
      "text/plain": [
       "[]"
      ]
     },
     "execution_count": 11,
     "metadata": {},
     "output_type": "execute_result"
    }
   ],
   "source": [
    "data[\"notes\"]"
   ]
  },
  {
   "cell_type": "code",
   "execution_count": null,
   "metadata": {},
   "outputs": [],
   "source": []
  }
 ],
 "metadata": {
  "kernelspec": {
   "display_name": "Python 3",
   "language": "python",
   "name": "python3"
  },
  "language_info": {
   "codemirror_mode": {
    "name": "ipython",
    "version": 3
   },
   "file_extension": ".py",
   "mimetype": "text/x-python",
   "name": "python",
   "nbconvert_exporter": "python",
   "pygments_lexer": "ipython3",
   "version": "3.7.0"
  },
  "toc": {
   "base_numbering": 1,
   "nav_menu": {},
   "number_sections": false,
   "sideBar": false,
   "skip_h1_title": false,
   "title_cell": "Table of Contents",
   "title_sidebar": "Contents",
   "toc_cell": false,
   "toc_position": {},
   "toc_section_display": false,
   "toc_window_display": false
  }
 },
 "nbformat": 4,
 "nbformat_minor": 4
}
