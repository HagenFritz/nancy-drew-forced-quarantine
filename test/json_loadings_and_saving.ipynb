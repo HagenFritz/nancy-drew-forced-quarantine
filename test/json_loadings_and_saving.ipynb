{
 "cells": [
  {
   "cell_type": "markdown",
   "metadata": {},
   "source": [
    "# Saving and Loading Data with .json Files\n",
    "In this notebook, we look at saving and loading data for the game in json files."
   ]
  },
  {
   "cell_type": "code",
   "execution_count": 1,
   "metadata": {},
   "outputs": [],
   "source": [
    "import json"
   ]
  },
  {
   "cell_type": "markdown",
   "metadata": {},
   "source": [
    "## Save and Load Functions\n",
    "Below are the two functions that we can use perhaps for all types of data (placed in ```config.py```)."
   ]
  },
  {
   "cell_type": "code",
   "execution_count": 12,
   "metadata": {},
   "outputs": [],
   "source": [
    "def load(loc=\"\",filename=\"\",suffix=\"\"):\n",
    "    \"\"\"\n",
    "    \n",
    "    \"\"\"\n",
    "    try:\n",
    "        with open(f\"{loc}{filename}.json\", \"r\") as f:\n",
    "            data = json.load(f)\n",
    "            print(\"File loaded succesfully!\")\n",
    "    except Exception as inst:\n",
    "        print(f\"Problem loading save file - {inst}\")\n",
    "        \n",
    "    return data"
   ]
  },
  {
   "cell_type": "code",
   "execution_count": 22,
   "metadata": {},
   "outputs": [],
   "source": [
    "def save(data,loc=\"\",filename=\"\",suffix=\"\"):\n",
    "    \"\"\"\n",
    "    \n",
    "    \"\"\"\n",
    "    try:\n",
    "        with open(f\"{loc}{filename}{suffix}.json\", \"w\") as f:\n",
    "            data = json.dump(data, f)\n",
    "            print(\"Game saved successfully!\")\n",
    "    except Exception as inst:\n",
    "        print(f\"Game not saved - {inst}\")"
   ]
  },
  {
   "cell_type": "markdown",
   "metadata": {},
   "source": [
    "## Inventory\n",
    "The inventory should be pretty straight-forward considering it is just a list of strings."
   ]
  },
  {
   "cell_type": "code",
   "execution_count": 23,
   "metadata": {},
   "outputs": [
    {
     "name": "stdout",
     "output_type": "stream",
     "text": [
      "Game saved successfully!\n"
     ]
    }
   ],
   "source": [
    "# test data\n",
    "inventory = [\"bag\"]\n",
    "# saving\n",
    "save(inventory,\"../data/save_files/\",\"inventory\",\"_test\")"
   ]
  },
  {
   "cell_type": "code",
   "execution_count": 19,
   "metadata": {},
   "outputs": [
    {
     "name": "stdout",
     "output_type": "stream",
     "text": [
      "File loaded succesfully!\n",
      "['bag', 'mug']\n"
     ]
    }
   ],
   "source": [
    "# loading inventory\n",
    "new_inventory = load(\"./data/\",\"inventory\")\n",
    "print(new_inventory)"
   ]
  },
  {
   "cell_type": "code",
   "execution_count": null,
   "metadata": {},
   "outputs": [],
   "source": []
  }
 ],
 "metadata": {
  "kernelspec": {
   "display_name": "Python 3",
   "language": "python",
   "name": "python3"
  },
  "language_info": {
   "codemirror_mode": {
    "name": "ipython",
    "version": 3
   },
   "file_extension": ".py",
   "mimetype": "text/x-python",
   "name": "python",
   "nbconvert_exporter": "python",
   "pygments_lexer": "ipython3",
   "version": "3.7.0"
  },
  "toc": {
   "base_numbering": 1,
   "nav_menu": {},
   "number_sections": false,
   "sideBar": false,
   "skip_h1_title": false,
   "title_cell": "Table of Contents",
   "title_sidebar": "Contents",
   "toc_cell": false,
   "toc_position": {},
   "toc_section_display": false,
   "toc_window_display": false
  }
 },
 "nbformat": 4,
 "nbformat_minor": 4
}
